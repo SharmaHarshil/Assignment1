{
 "cells": [
  {
   "cell_type": "markdown",
   "id": "50092c12-f06f-447b-ae29-13cf528e2391",
   "metadata": {},
   "source": [
    "# Data Science Tools and Ecosystem"
   ]
  },
  {
   "cell_type": "markdown",
   "id": "aec8f811-3001-476f-aa4a-b76e0d95023d",
   "metadata": {},
   "source": [
    "# In this notebook, Data Science Tools and Ecosystem are summarized."
   ]
  },
  {
   "cell_type": "markdown",
   "id": "caf28d0c-8079-4c6d-b84b-a1e7bd5e0842",
   "metadata": {},
   "source": [
    "# Some of the popular languages that Data Scientists use are:"
   ]
  },
  {
   "cell_type": "markdown",
   "id": "fab32f28-aa40-4e7d-a871-0bc89d63e503",
   "metadata": {},
   "source": [
    "1. Python\n",
    "2. R\n",
    "3. Julia\n",
    "4. Java"
   ]
  },
  {
   "cell_type": "markdown",
   "id": "4ab097e8-1eaa-43f1-a4a7-c239ad6da5a5",
   "metadata": {},
   "source": [
    "**Objectives:** \n",
    "- List popular languages for Data Science\n",
    "- List commonly used libraries by data scientists\n",
    "- gives ideas of data science tools\n",
    "- explain working with Github"
   ]
  },
  {
   "cell_type": "markdown",
   "id": "a7d84e1c-cd91-4acf-ba43-321506ebc35c",
   "metadata": {},
   "source": [
    "# Some of the commonly used libraries used by Data Scientists include:\n",
    "1. Numpy\n",
    "2. Pandas\n",
    "3. Seaborn\n",
    "4. Pytorch"
   ]
  },
  {
   "cell_type": "markdown",
   "id": "81f4b868-c9c3-4e0d-a37e-2285fae32d18",
   "metadata": {},
   "source": [
    "\n",
    "|Data Science Tools| \n",
    "| -------------| \n",
    "| Jupyter Notebook | \n",
    "| RStudio | \n",
    "| Github | "
   ]
  },
  {
   "cell_type": "markdown",
   "id": "06c20bc8-a7b3-4e64-ac1a-74831b7cc949",
   "metadata": {},
   "source": [
    "### Below are a few examples of evaluating arithmetic expressions in Python"
   ]
  },
  {
   "cell_type": "code",
   "execution_count": 2,
   "id": "071d4446-6832-49e3-968a-be6385357c0c",
   "metadata": {
    "tags": []
   },
   "outputs": [
    {
     "data": {
      "text/plain": [
       "17"
      ]
     },
     "execution_count": 2,
     "metadata": {},
     "output_type": "execute_result"
    }
   ],
   "source": [
    "# This a simple arithmetic expression to mutiply then add integers\n",
    "(3*4)+5"
   ]
  },
  {
   "cell_type": "code",
   "execution_count": 5,
   "id": "570f9779-6a40-4b35-a554-5de9b7041019",
   "metadata": {
    "tags": []
   },
   "outputs": [
    {
     "name": "stdout",
     "output_type": "stream",
     "text": [
      "3.3333333333333335\n"
     ]
    }
   ],
   "source": [
    "#This will convert 200 minutes to hours by diving by 60\n",
    "hour= 200/60\n",
    "print(hour)"
   ]
  },
  {
   "cell_type": "markdown",
   "id": "acdc2b9f-acc5-4e93-882b-7ec375a7bca6",
   "metadata": {},
   "source": [
    "## Author\n",
    "Harshil Sharma"
   ]
  },
  {
   "cell_type": "code",
   "execution_count": null,
   "id": "61d6e5d5-ab64-4f55-a302-1ed34a44769a",
   "metadata": {},
   "outputs": [],
   "source": []
  }
 ],
 "metadata": {
  "kernelspec": {
   "display_name": "Python",
   "language": "python",
   "name": "conda-env-python-py"
  },
  "language_info": {
   "codemirror_mode": {
    "name": "ipython",
    "version": 3
   },
   "file_extension": ".py",
   "mimetype": "text/x-python",
   "name": "python",
   "nbconvert_exporter": "python",
   "pygments_lexer": "ipython3",
   "version": "3.7.12"
  }
 },
 "nbformat": 4,
 "nbformat_minor": 5
}
